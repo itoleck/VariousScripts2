{
 "cells": [
  {
   "cell_type": "code",
   "execution_count": 27,
   "metadata": {},
   "outputs": [],
   "source": [
    "import csv\n",
    "import pyodbc"
   ]
  },
  {
   "cell_type": "code",
   "execution_count": 28,
   "metadata": {},
   "outputs": [],
   "source": [
    "csv_file = \"z:\\\\temp\\\\superdisk.csv\"\n",
    "with open(csv_file, \"r\") as f:\n",
    "    reader = csv.reader(f)\n",
    "    header = next(reader)"
   ]
  },
  {
   "cell_type": "code",
   "execution_count": 29,
   "metadata": {},
   "outputs": [
    {
     "name": "stdout",
     "output_type": "stream",
     "text": [
      "<pyodbc.Connection object at 0x0000027EF56F0ED0>\n"
     ]
    }
   ],
   "source": [
    "conn_string = \"Driver={SQL Server};Server=10.0.1.8;Database=superdisk;UID=sa;PWD=X1923fr**;\"\n",
    "conn = pyodbc.connect(conn_string)\n",
    "print (conn)"
   ]
  },
  {
   "cell_type": "code",
   "execution_count": 30,
   "metadata": {},
   "outputs": [
    {
     "data": {
      "text/plain": [
       "<pyodbc.Cursor at 0x27ef7bb40b0>"
      ]
     },
     "execution_count": 30,
     "metadata": {},
     "output_type": "execute_result"
    }
   ],
   "source": [
    "cur = conn.cursor()\n",
    "table_name = \"superdiskcsv\"\n",
    "columns = []\n",
    "for col in header:\n",
    "    # Assume that the columns are either text or numeric\n",
    "    if col.isnumeric():\n",
    "        col_type = \"NUMERIC\"\n",
    "    else:\n",
    "        col_type = \"TEXT\"\n",
    "    columns.append((col, col_type))\n",
    "\n",
    "# Create a table with the same data schema as the .csv file\n",
    "cur.execute(f\"DROP TABLE IF EXISTS {table_name}\")\n",
    "cur.execute(f\"CREATE TABLE {table_name} ({', '.join([f'{c[0]} {c[1]}' for c in columns])})\")"
   ]
  },
  {
   "cell_type": "code",
   "execution_count": 21,
   "metadata": {},
   "outputs": [
    {
     "data": {
      "text/plain": [
       "{'superdisk-csv'}"
      ]
     },
     "execution_count": 21,
     "metadata": {},
     "output_type": "execute_result"
    }
   ],
   "source": [
    "{table_name}"
   ]
  },
  {
   "cell_type": "code",
   "execution_count": null,
   "metadata": {},
   "outputs": [],
   "source": [
    "# Insert the data from the .csv file into the table\n",
    "for row in reader:\n",
    "    cur.execute(f\"INSERT INTO {table_name} VALUES ({', '.join(['?' for _ in row])})\", row)\n",
    "conn.commit()"
   ]
  },
  {
   "cell_type": "code",
   "execution_count": 7,
   "metadata": {},
   "outputs": [],
   "source": [
    "conn.close()"
   ]
  }
 ],
 "metadata": {
  "kernelspec": {
   "display_name": "Python 3",
   "language": "python",
   "name": "python3"
  },
  "language_info": {
   "codemirror_mode": {
    "name": "ipython",
    "version": 3
   },
   "file_extension": ".py",
   "mimetype": "text/x-python",
   "name": "python",
   "nbconvert_exporter": "python",
   "pygments_lexer": "ipython3",
   "version": "3.11.4"
  },
  "orig_nbformat": 4
 },
 "nbformat": 4,
 "nbformat_minor": 2
}
